{
  "nbformat": 4,
  "nbformat_minor": 0,
  "metadata": {
    "colab": {
      "name": "classification_test_bench.ipynb",
      "provenance": [],
      "collapsed_sections": [],
      "mount_file_id": "1Jxc6F2Ne3EssCIG3vjxLuwUE_xjH33Rk",
      "authorship_tag": "ABX9TyMmzRDWsQ54Iy1OiKWaOFXM",
      "include_colab_link": true
    },
    "kernelspec": {
      "name": "python3",
      "display_name": "Python 3"
    },
    "accelerator": "GPU"
  },
  "cells": [
    {
      "cell_type": "markdown",
      "metadata": {
        "id": "view-in-github",
        "colab_type": "text"
      },
      "source": [
        "<a href=\"https://colab.research.google.com/github/sayarghoshroy/Intro_to_DL_tutorial/blob/master/classification_test_bench.ipynb\" target=\"_parent\"><img src=\"https://colab.research.google.com/assets/colab-badge.svg\" alt=\"Open In Colab\"/></a>"
      ]
    },
    {
      "cell_type": "code",
      "metadata": {
        "id": "GoNXzxiuJh_T"
      },
      "source": [
        "import warnings\n",
        "warnings.simplefilter('ignore')"
      ],
      "execution_count": null,
      "outputs": []
    },
    {
      "cell_type": "code",
      "metadata": {
        "id": "KdARbO3dJwvL"
      },
      "source": [
        "%%capture\n",
        "# Suppressing cell output\n",
        "!pip install torch\n",
        "import torch"
      ],
      "execution_count": null,
      "outputs": []
    },
    {
      "cell_type": "code",
      "metadata": {
        "colab": {
          "base_uri": "https://localhost:8080/"
        },
        "id": "NYVzGiguKGBs",
        "outputId": "470a0681-60c5-4772-9d92-9225ea2dc0f6"
      },
      "source": [
        "cuda_available = torch.cuda.is_available()\n",
        "print('CUDA is available: ' + str(cuda_available))\n",
        "print('PyTorch version: ' + str(torch.__version__))\n",
        "if cuda_available:\n",
        "  torch.device('cuda')"
      ],
      "execution_count": null,
      "outputs": [
        {
          "output_type": "stream",
          "text": [
            "CUDA is available: True\n",
            "PyTorch version: 1.8.1+cu101\n"
          ],
          "name": "stdout"
        }
      ]
    },
    {
      "cell_type": "code",
      "metadata": {
        "colab": {
          "base_uri": "https://localhost:8080/"
        },
        "id": "cI4n9guqKXLT",
        "outputId": "800666c3-da4f-4788-9a49-3fea142198d2"
      },
      "source": [
        "!nvidia-smi"
      ],
      "execution_count": null,
      "outputs": [
        {
          "output_type": "stream",
          "text": [
            "Sun Apr 11 20:24:08 2021       \n",
            "+-----------------------------------------------------------------------------+\n",
            "| NVIDIA-SMI 460.67       Driver Version: 460.32.03    CUDA Version: 11.2     |\n",
            "|-------------------------------+----------------------+----------------------+\n",
            "| GPU  Name        Persistence-M| Bus-Id        Disp.A | Volatile Uncorr. ECC |\n",
            "| Fan  Temp  Perf  Pwr:Usage/Cap|         Memory-Usage | GPU-Util  Compute M. |\n",
            "|                               |                      |               MIG M. |\n",
            "|===============================+======================+======================|\n",
            "|   0  Tesla T4            Off  | 00000000:00:04.0 Off |                    0 |\n",
            "| N/A   36C    P8     9W /  70W |      3MiB / 15109MiB |      0%      Default |\n",
            "|                               |                      |                  N/A |\n",
            "+-------------------------------+----------------------+----------------------+\n",
            "                                                                               \n",
            "+-----------------------------------------------------------------------------+\n",
            "| Processes:                                                                  |\n",
            "|  GPU   GI   CI        PID   Type   Process name                  GPU Memory |\n",
            "|        ID   ID                                                   Usage      |\n",
            "|=============================================================================|\n",
            "|  No running processes found                                                 |\n",
            "+-----------------------------------------------------------------------------+\n"
          ],
          "name": "stdout"
        }
      ]
    },
    {
      "cell_type": "code",
      "metadata": {
        "id": "EdZOx5TlKYsJ"
      },
      "source": [
        "import os\n",
        "import time\n",
        "import sys\n",
        "import json\n",
        "import numpy as np\n",
        "import pickle\n",
        "import shutil"
      ],
      "execution_count": null,
      "outputs": []
    },
    {
      "cell_type": "code",
      "metadata": {
        "id": "Ck9nPw5eKjDE"
      },
      "source": [
        "%%capture\n",
        "# Suppressing cell output\n",
        "!pip install datasets\n",
        "!pip install protobuf\n",
        "!pip install simpletransformers\n",
        "\n",
        "# Note: If you're facing issues on Colab\n",
        "# Restart and rerun from this cell"
      ],
      "execution_count": null,
      "outputs": []
    },
    {
      "cell_type": "code",
      "metadata": {
        "id": "iy67hFK-Ksz9"
      },
      "source": [
        "from simpletransformers.classification import ClassificationModel, ClassificationArgs\n",
        "from sklearn.metrics import classification_report\n",
        "import simpletransformers\n",
        "import logging\n",
        "import pandas as pd"
      ],
      "execution_count": null,
      "outputs": []
    },
    {
      "cell_type": "code",
      "metadata": {
        "id": "jV2twhfUK3da"
      },
      "source": [
        "# Set data name and path\n",
        "data_name = 'data'\n",
        "data_path = 'drive/My Drive/data'\n",
        "# For referencing data stored on Google drive like the above\n",
        "# Mount drive first\n",
        "\n",
        "# Expectation:\n",
        "# data_path directory should contain train, val, test jsons\n",
        "# data-points should be present as a list of dicts\n",
        "# with each dict having a 'source', and a 'target'\n",
        "\n",
        "with open(data_path + '/' + 'train.json', 'r+') as f:\n",
        "  raw_train = json.load(f)\n",
        "\n",
        "with open(data_path + '/' + 'val.json', 'r+') as f:\n",
        "  raw_val = json.load(f)\n",
        "\n",
        "with open(data_path + '/' + 'test.json', 'r+') as f:\n",
        "  raw_test = json.load(f)"
      ],
      "execution_count": null,
      "outputs": []
    },
    {
      "cell_type": "code",
      "metadata": {
        "colab": {
          "base_uri": "https://localhost:8080/"
        },
        "id": "Bqkc33YyLtvW",
        "outputId": "1cb70f15-73e8-42f2-a6e1-21383f42408d"
      },
      "source": [
        "# Verifying loaded data\n",
        "assert type(raw_train) == type(raw_val)\n",
        "assert type(raw_train) == type(raw_test)\n",
        "print('Raw data object type: ' + str(type(raw_train)))\n",
        "print()\n",
        "\n",
        "print('Fields in the raw data: ')\n",
        "unit = raw_train[0]\n",
        "\n",
        "for key in unit:\n",
        "  print('• ' + str(key))"
      ],
      "execution_count": null,
      "outputs": [
        {
          "output_type": "stream",
          "text": [
            "Raw data object type: <class 'list'>\n",
            "\n",
            "Fields in the raw data: \n",
            "• source\n",
            "• target\n"
          ],
          "name": "stdout"
        }
      ]
    },
    {
      "cell_type": "code",
      "metadata": {
        "id": "TYWID8eWNUuW"
      },
      "source": [
        "# To test out the procedure with small amounts of data\n",
        "global_testing_mode = 0\n",
        "global_testing_unit_count = 512"
      ],
      "execution_count": null,
      "outputs": []
    },
    {
      "cell_type": "code",
      "metadata": {
        "colab": {
          "base_uri": "https://localhost:8080/"
        },
        "id": "9wTFOtjYNdqW",
        "outputId": "9ce2a872-e4de-4289-ff84-18dcedda52d6"
      },
      "source": [
        "print('Number of Samples in: ')\n",
        "print('• train: ' + str(len(raw_train)))\n",
        "print('• val: ' + str(len(raw_val)))\n",
        "print('• test: ' + str(len(raw_test)))\n",
        "\n",
        "# Defining mappings for training\n",
        "def create_set(set_name = 'train'):\n",
        "  global raw_train, raw_val, raw_test\n",
        "  global global_testing_mode, global_testing_unit_count\n",
        "  work_on = None\n",
        "\n",
        "  if set_name == 'train':\n",
        "    work_on = raw_train\n",
        "  elif set_name == 'val':\n",
        "    work_on = raw_val\n",
        "  elif set_name == 'test':\n",
        "    work_on = raw_test\n",
        "  else:\n",
        "    print('Invalid Data Split.')\n",
        "    return -1\n",
        "  \n",
        "  data_size = len(work_on)\n",
        "  if global_testing_mode:\n",
        "    data_size = global_testing_unit_count\n",
        "\n",
        "  data = []\n",
        "  for index in range(data_size):\n",
        "    unit = [work_on[index]['source'], work_on[index]['target']]\n",
        "    data.append(unit)\n",
        "\n",
        "  return data\n",
        "\n",
        "train = create_set('train')\n",
        "val = create_set('val')\n",
        "test = create_set('test')"
      ],
      "execution_count": null,
      "outputs": [
        {
          "output_type": "stream",
          "text": [
            "Number of Samples in: \n",
            "• train: 17348\n",
            "• val: 2478\n",
            "• test: 4957\n"
          ],
          "name": "stdout"
        }
      ]
    },
    {
      "cell_type": "code",
      "metadata": {
        "colab": {
          "base_uri": "https://localhost:8080/"
        },
        "id": "tz3Gzl6lNvsE",
        "outputId": "00bdf3d0-077f-4f07-dd56-d8d253d4dd59"
      },
      "source": [
        "# Getting number of positive and negative samples in train split\n",
        "total_in_train = len(train)\n",
        "positive_in_train = 0\n",
        "correct_imbalance = True\n",
        "\n",
        "for unit in train:\n",
        "  positive_in_train += unit[1]\n",
        "\n",
        "print('Number of positive samples: ' + str(positive_in_train))\n",
        "print('Number of negative samples: ' + str(total_in_train - positive_in_train))\n",
        "\n",
        "# Weights to correct the class imbalance\n",
        "greater_class_count = max((total_in_train - positive_in_train), positive_in_train)\n",
        "class_weights = [greater_class_count / (total_in_train - positive_in_train),\n",
        "                 greater_class_count / positive_in_train]\n",
        "\n",
        "if correct_imbalance == False:\n",
        "  # Disabling weighing of classes\n",
        "  class_weights = [1, 1]"
      ],
      "execution_count": null,
      "outputs": [
        {
          "output_type": "stream",
          "text": [
            "Number of positive samples: 14450\n",
            "Number of negative samples: 2898\n"
          ],
          "name": "stdout"
        }
      ]
    },
    {
      "cell_type": "code",
      "metadata": {
        "colab": {
          "base_uri": "https://localhost:8080/",
          "height": 424
        },
        "id": "4k-jbdscSEPQ",
        "outputId": "a54009f2-59f5-44d7-a3e3-a3fe68c05e89"
      },
      "source": [
        "# Defining dataframes\n",
        "train_df = pd.DataFrame(train)\n",
        "train_df.columns = ['source', 'label']\n",
        "\n",
        "val_df = pd.DataFrame(val)\n",
        "val_df.columns = ['source', 'label']\n",
        "\n",
        "# Verifying correctness\n",
        "train_df"
      ],
      "execution_count": null,
      "outputs": [
        {
          "output_type": "execute_result",
          "data": {
            "text/html": [
              "<div>\n",
              "<style scoped>\n",
              "    .dataframe tbody tr th:only-of-type {\n",
              "        vertical-align: middle;\n",
              "    }\n",
              "\n",
              "    .dataframe tbody tr th {\n",
              "        vertical-align: top;\n",
              "    }\n",
              "\n",
              "    .dataframe thead th {\n",
              "        text-align: right;\n",
              "    }\n",
              "</style>\n",
              "<table border=\"1\" class=\"dataframe\">\n",
              "  <thead>\n",
              "    <tr style=\"text-align: right;\">\n",
              "      <th></th>\n",
              "      <th>source</th>\n",
              "      <th>label</th>\n",
              "    </tr>\n",
              "  </thead>\n",
              "  <tbody>\n",
              "    <tr>\n",
              "      <th>0</th>\n",
              "      <td>Early bird get the worm.</td>\n",
              "      <td>0</td>\n",
              "    </tr>\n",
              "    <tr>\n",
              "      <th>1</th>\n",
              "      <td>if youre not cheering for mexico youre a littl...</td>\n",
              "      <td>1</td>\n",
              "    </tr>\n",
              "    <tr>\n",
              "      <th>2</th>\n",
              "      <td>RT : These hoes ain't loyal</td>\n",
              "      <td>1</td>\n",
              "    </tr>\n",
              "    <tr>\n",
              "      <th>3</th>\n",
              "      <td>\" lames crying over hoes thats tears of a clown \"</td>\n",
              "      <td>1</td>\n",
              "    </tr>\n",
              "    <tr>\n",
              "      <th>4</th>\n",
              "      <td>: I feel sorry for da females that dont get wh...</td>\n",
              "      <td>1</td>\n",
              "    </tr>\n",
              "    <tr>\n",
              "      <th>...</th>\n",
              "      <td>...</td>\n",
              "      <td>...</td>\n",
              "    </tr>\n",
              "    <tr>\n",
              "      <th>17343</th>\n",
              "      <td>When a hoe tryna get at you while ya girl is l...</td>\n",
              "      <td>1</td>\n",
              "    </tr>\n",
              "    <tr>\n",
              "      <th>17344</th>\n",
              "      <td>Fuk wit a real nicca</td>\n",
              "      <td>1</td>\n",
              "    </tr>\n",
              "    <tr>\n",
              "      <th>17345</th>\n",
              "      <td>naw nigga what's up with em hands, what happen...</td>\n",
              "      <td>1</td>\n",
              "    </tr>\n",
              "    <tr>\n",
              "      <th>17346</th>\n",
              "      <td>Yous a bitch ass nigga &amp;;: Rt i Push the tape ...</td>\n",
              "      <td>1</td>\n",
              "    </tr>\n",
              "    <tr>\n",
              "      <th>17347</th>\n",
              "      <td>: Where da hoes at... C'Mon thru at Hatchy's i...</td>\n",
              "      <td>1</td>\n",
              "    </tr>\n",
              "  </tbody>\n",
              "</table>\n",
              "<p>17348 rows × 2 columns</p>\n",
              "</div>"
            ],
            "text/plain": [
              "                                                  source  label\n",
              "0                               Early bird get the worm.      0\n",
              "1      if youre not cheering for mexico youre a littl...      1\n",
              "2                            RT : These hoes ain't loyal      1\n",
              "3      \" lames crying over hoes thats tears of a clown \"      1\n",
              "4      : I feel sorry for da females that dont get wh...      1\n",
              "...                                                  ...    ...\n",
              "17343  When a hoe tryna get at you while ya girl is l...      1\n",
              "17344                               Fuk wit a real nicca      1\n",
              "17345  naw nigga what's up with em hands, what happen...      1\n",
              "17346  Yous a bitch ass nigga &;: Rt i Push the tape ...      1\n",
              "17347  : Where da hoes at... C'Mon thru at Hatchy's i...      1\n",
              "\n",
              "[17348 rows x 2 columns]"
            ]
          },
          "metadata": {
            "tags": []
          },
          "execution_count": 13
        }
      ]
    },
    {
      "cell_type": "code",
      "metadata": {
        "colab": {
          "base_uri": "https://localhost:8080/"
        },
        "id": "pgvVg6FGSXFB",
        "outputId": "48ecec3d-cdc1-4cec-9d4e-aed4b4976ceb"
      },
      "source": [
        "%%capture\n",
        "# Leveraging a pre-trained Transformer Model\n",
        "\n",
        "model_index = 1\n",
        "# Set 0 for bert-base, 1 for roberta-base\n",
        "\n",
        "model_loc = ['bert-base-uncased', 'roberta-base'][model_index]\n",
        "model_type = ['bert', 'roberta'][model_index]\n",
        "\n",
        "is_lower = False\n",
        "if model_index == 0:\n",
        "  is_lower = True\n",
        "\n",
        "length_setting = 256\n",
        "model_name = model_loc + '_' + data_name + '_' + str(length_setting)\n",
        "cache_name = model_name + '_cache_dir'\n",
        "\n",
        "batch_size = 32\n",
        "num_epochs = 4\n",
        "num_gpus = 4\n",
        "\n",
        "if global_testing_mode == 1:\n",
        "  model_name += '_testing'\n",
        "  num_epochs = 2\n",
        "  length_setting = 64\n",
        "\n",
        "model_args = ClassificationArgs(train_batch_size = batch_size,\n",
        "                                max_seq_length = length_setting,\n",
        "                                save_steps = -1,\n",
        "                                n_gpu = num_gpus,\n",
        "                                num_train_epochs = num_epochs,\n",
        "                                evaluate_during_training = True,\n",
        "                                overwrite_output_dir = True,\n",
        "                                save_eval_checkpoints = False,\n",
        "                                save_model_every_epoch = False,\n",
        "                                cache_dir = cache_name,\n",
        "                                fp16 = True,\n",
        "                                manual_seed = 42,\n",
        "                                do_lower_case = is_lower,\n",
        "                                best_model_dir = model_name)\n",
        "\n",
        "model = ClassificationModel(model_type,\n",
        "                            model_loc,\n",
        "                            use_cuda = cuda_available,\n",
        "                            args = model_args,\n",
        "                            num_labels = 2,\n",
        "                            weight = class_weights)"
      ],
      "execution_count": null,
      "outputs": [
        {
          "output_type": "stream",
          "text": [
            "Some weights of the model checkpoint at roberta-base were not used when initializing RobertaForSequenceClassification: ['lm_head.bias', 'lm_head.dense.weight', 'lm_head.dense.bias', 'lm_head.layer_norm.weight', 'lm_head.layer_norm.bias', 'lm_head.decoder.weight']\n",
            "- This IS expected if you are initializing RobertaForSequenceClassification from the checkpoint of a model trained on another task or with another architecture (e.g. initializing a BertForSequenceClassification model from a BertForPreTraining model).\n",
            "- This IS NOT expected if you are initializing RobertaForSequenceClassification from the checkpoint of a model that you expect to be exactly identical (initializing a BertForSequenceClassification model from a BertForSequenceClassification model).\n",
            "Some weights of RobertaForSequenceClassification were not initialized from the model checkpoint at roberta-base and are newly initialized: ['classifier.dense.weight', 'classifier.dense.bias', 'classifier.out_proj.weight', 'classifier.out_proj.bias']\n",
            "You should probably TRAIN this model on a down-stream task to be able to use it for predictions and inference.\n"
          ],
          "name": "stderr"
        }
      ]
    },
    {
      "cell_type": "code",
      "metadata": {
        "id": "foj_fq0yevcV"
      },
      "source": [
        "# Training\n",
        "\n",
        "start = time.time()\n",
        "model.train_model(train_df, eval_df = val_df)\n",
        "end = time.time()\n",
        "time_to_train = int(round(end - start))\n",
        "\n",
        "hours = int(time_to_train / 3600)\n",
        "minutes = int(int(time_to_train % 3600) / 60)\n",
        "seconds = int(time_to_train % 60)\n",
        "print()\n",
        "print('Number of Epochs: ' + str(num_epochs))\n",
        "print('Maximum Sequence Length: ' + str(length_setting))\n",
        "print('Batch size: ' + str(batch_size))\n",
        "print('Time taken for training: ' + str(hours).zfill(2) + ':' + str(minutes).zfill(2) + ':' + str(seconds).zfill(2))"
      ],
      "execution_count": null,
      "outputs": []
    },
    {
      "cell_type": "code",
      "metadata": {
        "id": "iUR1XguvfbIg"
      },
      "source": [
        "# Inference\n",
        "infer_now = True\n",
        "\n",
        "if infer_now == True:\n",
        "  model = ClassificationModel(model_type, model_name)\n",
        "  print('Using Model: ' + str(model_name))\n",
        "  print()\n",
        "  \n",
        "  val_sources = [unit[0] for unit in val]\n",
        "  test_sources = [unit[0] for unit in test]\n",
        "\n",
        "  val_targets = [unit[1] for unit in val]\n",
        "  test_targets = [unit[1] for unit in test]\n",
        "\n",
        "  # Evaluation on val data\n",
        "  print('Results on the validation split: ')\n",
        "  val_predictions, val_outputs = model.predict(val_sources)\n",
        "  print(classification_report(val_targets, val_predictions, digits = 6))\n",
        "  print()\n",
        "\n",
        "  # Evaluation on test data\n",
        "  print('Results on the test split: ')\n",
        "  test_predictions, test_outputs = model.predict(test_sources)\n",
        "  print(classification_report(test_targets, test_predictions, digits = 6))"
      ],
      "execution_count": null,
      "outputs": []
    },
    {
      "cell_type": "code",
      "metadata": {
        "id": "oBm-JNGhZVl6"
      },
      "source": [
        "compress_model = False\n",
        "if compress_model == True:\n",
        "  shutil.make_archive(model_name, 'zip', model_name)\n",
        "  shutil.make_archive(cache_name, 'zip', cache_name)"
      ],
      "execution_count": null,
      "outputs": []
    },
    {
      "cell_type": "code",
      "metadata": {
        "id": "Ryb6DigKZ9gU"
      },
      "source": [
        "# ^_^ Thank You"
      ],
      "execution_count": null,
      "outputs": []
    }
  ]
}