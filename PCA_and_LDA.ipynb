{
  "nbformat": 4,
  "nbformat_minor": 0,
  "metadata": {
    "colab": {
      "name": "PCA_and_LDA.ipynb",
      "provenance": [],
      "collapsed_sections": [],
      "authorship_tag": "ABX9TyN/5RSjn+dnN+wYogNF6hTv",
      "include_colab_link": true
    },
    "kernelspec": {
      "name": "python3",
      "display_name": "Python 3"
    },
    "language_info": {
      "name": "python"
    }
  },
  "cells": [
    {
      "cell_type": "markdown",
      "metadata": {
        "id": "view-in-github",
        "colab_type": "text"
      },
      "source": [
        "<a href=\"https://colab.research.google.com/github/sayarghoshroy/Intro_to_DL_tutorial/blob/master/PCA_and_LDA.ipynb\" target=\"_parent\"><img src=\"https://colab.research.google.com/assets/colab-badge.svg\" alt=\"Open In Colab\"/></a>"
      ]
    },
    {
      "cell_type": "code",
      "metadata": {
        "id": "seca8hVBe7Ro"
      },
      "source": [
        "import numpy as np\n",
        "import scipy as sc\n",
        "from scipy.stats import f\n",
        "import matplotlib.pyplot as plt"
      ],
      "execution_count": 1,
      "outputs": []
    },
    {
      "cell_type": "markdown",
      "metadata": {
        "id": "AJg5uBjjq3XI"
      },
      "source": [
        "# $Data$"
      ]
    },
    {
      "cell_type": "code",
      "metadata": {
        "colab": {
          "base_uri": "https://localhost:8080/"
        },
        "id": "Wn74dF1bfQVa",
        "outputId": "ba81a519-3627-486b-bf9c-7e992beaf3a5"
      },
      "source": [
        "set_A = [[189, 245, 137, 163],\n",
        "        [192, 260, 132, 217],\n",
        "        [217, 276, 141, 192],\n",
        "        [221, 299, 142, 213],\n",
        "        [171, 239, 128, 158],\n",
        "        [192, 262, 147, 173],\n",
        "        [213, 278, 136, 201],\n",
        "        [192, 255, 128, 185],\n",
        "        [170, 244, 128, 192],\n",
        "        [201, 276, 146, 186],\n",
        "        [195, 242, 128, 192],\n",
        "        [205, 263, 147, 192],\n",
        "        [180, 252, 121, 167],\n",
        "        [192, 283, 138, 183],\n",
        "        [200, 287, 136, 173],\n",
        "        [192, 277, 150, 177],\n",
        "        [200, 287, 136, 173],\n",
        "        [181, 255, 146, 183],\n",
        "        [192, 287, 141, 198]]\n",
        "\n",
        "set_B = [[181, 305, 184, 209],\n",
        "        [158, 237, 133, 188],\n",
        "        [184, 300, 166, 231],\n",
        "        [171, 273, 162, 213],\n",
        "        [181, 297, 163, 224],\n",
        "        [181, 308, 160, 223],\n",
        "        [177, 301, 166, 221],\n",
        "        [198, 308, 141, 197],\n",
        "        [180, 286, 146, 214],\n",
        "        [177, 299, 171, 192],\n",
        "        [176, 317, 166, 213],\n",
        "        [192, 312, 166, 209],\n",
        "        [176, 285, 141, 200],\n",
        "        [169, 287, 162, 214],\n",
        "        [164, 265, 147, 192],\n",
        "        [181, 308, 157, 204],\n",
        "        [192, 276, 154, 209],\n",
        "        [181, 278, 149, 235],\n",
        "        [175, 271, 140, 192],\n",
        "        [197, 303, 170, 205]]\n",
        "\n",
        "n_A = len(set_A)\n",
        "n_B = len(set_B)\n",
        "set_A = np.asmatrix(set_A)\n",
        "set_B = np.asmatrix(set_B)\n",
        "\n",
        "mean_A = np.mean(set_A, axis = 0)\n",
        "mean_B = np.mean(set_B, axis = 0)\n",
        "\n",
        "data = np.vstack([set_A, set_B])\n",
        "mean = np.mean(data, axis = 0)\n",
        "\n",
        "print('Number of datapoints: ')\n",
        "print('- In class A: ' + str(n_A))\n",
        "print('- In class B: ' + str(n_B))\n",
        "print('- Total: ' + str(data.shape[0]))\n",
        "\n",
        "store_figures = False\n",
        "fontsize = 16"
      ],
      "execution_count": 2,
      "outputs": [
        {
          "output_type": "stream",
          "text": [
            "Number of datapoints: \n",
            "- In class A: 19\n",
            "- In class B: 20\n",
            "- Total: 39\n"
          ],
          "name": "stdout"
        }
      ]
    },
    {
      "cell_type": "markdown",
      "metadata": {
        "id": "ujDWq_8HrOVE"
      },
      "source": [
        "# $Principal\\ Component\\ Analysis$"
      ]
    },
    {
      "cell_type": "code",
      "metadata": {
        "colab": {
          "base_uri": "https://localhost:8080/"
        },
        "id": "cF24KYAJfS2g",
        "outputId": "93bf0f67-3058-48c0-e4af-b14dc734bc85"
      },
      "source": [
        "# Performing Principal Component Analysis\n",
        "\n",
        "covariance_matrix = np.cov(data.T)\n",
        "eigen_values, eigen_vectors = np.linalg.eig(covariance_matrix)\n",
        "\n",
        "order = np.argsort(-1 * eigen_values)\n",
        "\n",
        "# Dataset Visualization\n",
        "# Considering only the first two principal components\n",
        "\n",
        "print(\"Principal Eigen Value:\", np.round(eigen_values[order[0]], 4))\n",
        "print(\"Principal Eigen Vector:\", \n",
        "      np.ndarray.tolist(np.round(eigen_vectors[:, order[0]], 4)))\n",
        "print()\n",
        "\n",
        "print(\"Secondary Eigen Value:\", np.round(eigen_values[order[1]], 4))\n",
        "print(\"Secondary Eigen Vector:\", \n",
        "      np.ndarray.tolist(np.round(eigen_vectors[:, order[1]], 4)))"
      ],
      "execution_count": 3,
      "outputs": [
        {
          "output_type": "stream",
          "text": [
            "Principal Eigen Value: 821.9183\n",
            "Principal Eigen Vector: [-0.0184, -0.7272, -0.4332, -0.5322]\n",
            "\n",
            "Secondary Eigen Value: 242.9598\n",
            "Secondary Eigen Vector: [-0.8048, -0.3858, 0.1673, 0.4188]\n"
          ],
          "name": "stdout"
        }
      ]
    },
    {
      "cell_type": "code",
      "metadata": {
        "id": "ngu20tfzgRz_"
      },
      "source": [
        "# For class A\n",
        "x_A = np.ravel(np.matmul(eigen_vectors[:, order[0]], set_A.T))\n",
        "y_A = np.ravel(np.matmul(eigen_vectors[:, order[1]], set_A.T))\n",
        "\n",
        "# For class B\n",
        "x_B = np.ravel(np.matmul(eigen_vectors[:, order[0]], set_B.T))\n",
        "y_B = np.ravel(np.matmul(eigen_vectors[:, order[1]], set_B.T))\n",
        "\n",
        "# Converting data formats\n",
        "x_A = np.ndarray.tolist(x_A)\n",
        "y_A = np.ndarray.tolist(y_A)\n",
        "x_B = np.ndarray.tolist(x_B)\n",
        "y_B = np.ndarray.tolist(y_B)"
      ],
      "execution_count": 4,
      "outputs": []
    },
    {
      "cell_type": "code",
      "metadata": {
        "colab": {
          "base_uri": "https://localhost:8080/",
          "height": 732
        },
        "id": "jSH_TJFrjCw_",
        "outputId": "aa62ab58-9f49-4b00-842a-61f3ee5ef4dc"
      },
      "source": [
        "# Visualizing dimensionality reduction due to PCA\n",
        "if store_figures == True:\n",
        "  plt.figure(figsize = (10, 10))\n",
        "else:\n",
        "  plt.figure(figsize = (12, 12))\n",
        "\n",
        "fig = plt.subplot(111)\n",
        "fig.set_title('Dimensionality reduction using PCA', fontsize = fontsize)\n",
        "fig.set_xlabel('x')\n",
        "fig.set_ylabel('y')\n",
        "\n",
        "data_A = fig.scatter(x_A, y_A, color = 'blue', label = 'Class A')\n",
        "data_B = fig.scatter(x_B, y_B, color = 'green', label = 'Class B')\n",
        "plt.legend()\n",
        "if store_figures == True:\n",
        "  plt.savefig('PCA.png')\n",
        "plt.show()"
      ],
      "execution_count": 5,
      "outputs": [
        {
          "output_type": "display_data",
          "data": {
            "image/png": "[encoded data removed]",
            "text/plain": [
              "<Figure size 864x864 with 1 Axes>"
            ]
          },
          "metadata": {
            "tags": [],
            "needs_background": "light"
          }
        }
      ]
    },
    {
      "cell_type": "code",
      "metadata": {
        "colab": {
          "base_uri": "https://localhost:8080/"
        },
        "id": "y47eyUWy2Nkj",
        "outputId": "82d810ff-2ea6-43d4-8bd2-1c915fdb7ce3"
      },
      "source": [
        "# Significance of Principal Components based on\n",
        "# eigenvalues of the S matrix\n",
        "\n",
        "ordered_values = eigen_values[order]\n",
        "total = np.sum(ordered_values)\n",
        "contrib = (ordered_values * 100) / total\n",
        "\n",
        "print('Significance of Principal Components based on eigenvalues of the S matrix')\n",
        "print()\n",
        "\n",
        "for index in range(contrib.shape[0]):\n",
        "  print('Eigenvalue = ' + str(np.round(ordered_values[index], 4)) + ', ', end = '')\n",
        "  print('Percentage Contribution = ' + str(np.round(contrib[index], 4)) + ' %')"
      ],
      "execution_count": 6,
      "outputs": [
        {
          "output_type": "stream",
          "text": [
            "Significance of Principal Components based on eigenvalues of the S matrix\n",
            "\n",
            "Eigenvalue = 821.9183, Percentage Contribution = 64.8212 %\n",
            "Eigenvalue = 242.9598, Percentage Contribution = 19.1612 %\n",
            "Eigenvalue = 147.9856, Percentage Contribution = 11.671 %\n",
            "Eigenvalue = 55.1134, Percentage Contribution = 4.3466 %\n"
          ],
          "name": "stdout"
        }
      ]
    },
    {
      "cell_type": "markdown",
      "metadata": {
        "id": "p74dgmXvrTx-"
      },
      "source": [
        "# $Linear\\ Discriminant\\ Analysis$"
      ]
    },
    {
      "cell_type": "markdown",
      "metadata": {
        "id": "mXlgOuP6uem-"
      },
      "source": [
        "## $Within-class\\ scatter\\ matrix\\ S_W$\n",
        "\n",
        "$S_W\\ =\\ \\sum_{i = 1}^{c}S_i$\n",
        "\n",
        "$where$\n",
        "\n",
        "- $S_i\\ =\\ \\sum_{x \\in C_i}^{n}(x - m_i)(x - m_i)^T$\n",
        "\n",
        "- $C_i\\ denotes\\ the\\ set\\ of\\ datapoints\\ in\\ the\\ i^{th}\\ class$\n",
        "\n",
        "- $n_i\\ =\\ |C_i|$\n",
        "\n",
        "- $C\\ denotes\\ the\\ collection\\ of\\ all\\ classes$\n",
        "\n",
        "- $n\\ represents\\ the\\ total\\ number\\ of\\ datapoints\\ across\\ all\\ classes$\n",
        "\n",
        "    $i.e.\\ n\\ =\\ \\sum_{i = 1}^{|C|}n_i$\n",
        "\n",
        "- $m_i\\ =\\ \\frac{1}{n_i} \\sum_{x \\in C_i}^{n_i}x$"
      ]
    },
    {
      "cell_type": "markdown",
      "metadata": {
        "id": "gEmBqR39wW8U"
      },
      "source": [
        "## $Between-class\\ scatter\\ matrix\\ S_B$\n",
        "\n",
        "$S_B\\ =\\ \\sum_{i = 1}^{|C|}n_i(m_i - m)(m_i - m)^T$\n",
        "\n",
        "$where$\n",
        "\n",
        "- $m\\ =\\ \\frac{1}{n}\\sum_{i = 1}^{n}x_i$\n"
      ]
    },
    {
      "cell_type": "markdown",
      "metadata": {
        "id": "8dqsjfotxl9X"
      },
      "source": [
        "## $Solving\\ a\\ generalized\\ eigenvalue\\ problem$\n",
        "\n",
        "$Let\\ A\\ =\\ S_W^{-1}S_B$\n",
        "\n",
        "$Generalized\\ eigenvalue\\ problem:\\ Av\\ =\\ \\lambda v $\n",
        "\n",
        "$where$\n",
        "- $(\\lambda,\\ v)\\ is\\ a\\ solution\\ eigenvalue,\\ eigenvector\\ pair$"
      ]
    },
    {
      "cell_type": "code",
      "metadata": {
        "colab": {
          "base_uri": "https://localhost:8080/"
        },
        "id": "cLZXHZP5jF8l",
        "outputId": "5cd955c2-ce83-4d51-a83b-cc4f65f68d8f"
      },
      "source": [
        "# Performing Fisher's Linear Discriminant Analysis\n",
        "\n",
        "S_A = np.cov(set_A.T)\n",
        "S_B = np.cov(set_B.T)\n",
        "\n",
        "S_W = S_A + S_B\n",
        "\n",
        "unit_A = mean_A - mean\n",
        "unit_B = mean_B - mean\n",
        "\n",
        "S_B = n_A * np.matmul(unit_A.T, unit_A) + n_B * np.matmul(unit_B.T, unit_B)\n",
        "\n",
        "covariance_matrix = np.real(np.matmul(np.linalg.inv(S_W), S_B))\n",
        "eigen_values, eigen_vectors = np.linalg.eig(covariance_matrix)\n",
        "\n",
        "eigen_values = np.real(eigen_values)\n",
        "eigen_vectors = np.real(eigen_vectors)\n",
        "\n",
        "order = np.argsort(-1 * eigen_values)\n",
        "\n",
        "# Dataset Visualization\n",
        "# Considering only the first two principal components\n",
        "\n",
        "primary = np.ravel(eigen_vectors[:, order[0]].T)\n",
        "secondary = np.ravel(eigen_vectors[:, order[1]].T)\n",
        "\n",
        "print(\"Maximum eigen value of matrix A:\", np.round(eigen_values[order[0]], 4))\n",
        "print(\"Principal Linear Discriminant:\", \n",
        "      np.ndarray.tolist(np.round(primary, 4)))\n",
        "print()\n",
        "\n",
        "print(\"Second largest eigen value of matrix A:\", np.round(eigen_values[order[1]], 4))\n",
        "print(\"Secondary Linear Discriminant:\", \n",
        "      np.ndarray.tolist(np.round(secondary, 4)))"
      ],
      "execution_count": 7,
      "outputs": [
        {
          "output_type": "stream",
          "text": [
            "Maximum eigen value of matrix A: 69.3985\n",
            "Principal Linear Discriminant: [0.8414, -0.3429, -0.2365, -0.3444]\n",
            "\n",
            "Second largest eigen value of matrix A: 0.0\n",
            "Secondary Linear Discriminant: [-0.9351, -0.2249, -0.1551, -0.2258]\n"
          ],
          "name": "stdout"
        }
      ]
    },
    {
      "cell_type": "code",
      "metadata": {
        "id": "MK9Yhi2Gld2J"
      },
      "source": [
        "# For class A\n",
        "x_A = np.ravel(np.matmul(eigen_vectors[:, order[0]].T, set_A.T))\n",
        "y_A = np.ravel(np.matmul(eigen_vectors[:, order[1]].T, set_A.T))\n",
        "\n",
        "# For class B\n",
        "x_B = np.ravel(np.matmul(eigen_vectors[:, order[0]].T, set_B.T))\n",
        "y_B = np.ravel(np.matmul(eigen_vectors[:, order[1]].T, set_B.T))\n",
        "\n",
        "# Converting data formats\n",
        "x_A = np.ndarray.tolist(x_A)\n",
        "y_A = np.ndarray.tolist(y_A)\n",
        "x_B = np.ndarray.tolist(x_B)\n",
        "y_B = np.ndarray.tolist(y_B)"
      ],
      "execution_count": 8,
      "outputs": []
    },
    {
      "cell_type": "code",
      "metadata": {
        "colab": {
          "base_uri": "https://localhost:8080/",
          "height": 732
        },
        "id": "oDDzaG8rndnD",
        "outputId": "bf188296-509f-41c9-8b74-9fa4c23e0877"
      },
      "source": [
        "# Visualizing dimensionality reduction due to LDA\n",
        "if store_figures == True:\n",
        "  plt.figure(figsize = (10, 10))\n",
        "else:\n",
        "  plt.figure(figsize = (12, 12))\n",
        "\n",
        "fig = plt.subplot(111)\n",
        "fig.set_title('Dimensionality reduction using LDA', fontsize = fontsize)\n",
        "fig.set_xlabel('x')\n",
        "fig.set_ylabel('y')\n",
        "\n",
        "data_A = fig.scatter(x_A, y_A, color = 'blue', label = 'Class A')\n",
        "data_B = fig.scatter(x_B, y_B, color = 'green', label = 'Class B')\n",
        "plt.legend()\n",
        "\n",
        "if store_figures == True:\n",
        "  plt.savefig('LDA.png')\n",
        "plt.show()"
      ],
      "execution_count": 9,
      "outputs": [
        {
          "output_type": "display_data",
          "data": {
            "image/png": "[encoded data removed]",
            "text/plain": [
              "<Figure size 864x864 with 1 Axes>"
            ]
          },
          "metadata": {
            "tags": [],
            "needs_background": "light"
          }
        }
      ]
    },
    {
      "cell_type": "code",
      "metadata": {
        "colab": {
          "base_uri": "https://localhost:8080/"
        },
        "id": "cTPjZaKy3dmr",
        "outputId": "bb2e5e6d-70e4-45f9-ec43-766a5453948e"
      },
      "source": [
        "# Significance of Linear Discriminants based on\n",
        "# eigenvalues of the A matrix\n",
        "\n",
        "ordered_values = eigen_values[order]\n",
        "total = np.sum(ordered_values)\n",
        "contrib = (ordered_values * 100) / total\n",
        "\n",
        "print('Significance of Linear Discriminants based on eigenvalues of the A matrix')\n",
        "print()\n",
        "\n",
        "for index in range(contrib.shape[0]):\n",
        "  print('Eigenvalue = ' + str(np.round(ordered_values[index], 14)) + ', ', end = '')\n",
        "  print('Percentage Contribution = ' + str(np.round(contrib[index], 14)) + ' %')"
      ],
      "execution_count": 10,
      "outputs": [
        {
          "output_type": "stream",
          "text": [
            "Significance of Linear Discriminants based on eigenvalues of the A matrix\n",
            "\n",
            "Eigenvalue = 69.39849481007302, Percentage Contribution = 99.99999999999999 %\n",
            "Eigenvalue = 1e-14, Percentage Contribution = 1e-14 %\n",
            "Eigenvalue = 0.0, Percentage Contribution = 0.0 %\n",
            "Eigenvalue = 0.0, Percentage Contribution = 0.0 %\n"
          ],
          "name": "stdout"
        }
      ]
    },
    {
      "cell_type": "markdown",
      "metadata": {
        "id": "Afb-_EKepSRo"
      },
      "source": [
        "# $Conclusion$\n",
        "\n",
        "- $ LDA\\ ensures\\ much\\ better\\ class\\ separability\\ compared\\ to\\ PCA.$"
      ]
    },
    {
      "cell_type": "markdown",
      "metadata": {
        "id": "2O_1lyHxn9cv"
      },
      "source": [
        "# $LDA\\ for\\ classification$"
      ]
    },
    {
      "cell_type": "code",
      "metadata": {
        "id": "ljadr3itoExZ"
      },
      "source": [
        "def classifier_score(point):\n",
        "  score = np.ravel(np.matmul(eigen_vectors[:, order[0]].T, point.T))\n",
        "  return score\n",
        "\n",
        "def point_of_separation(A_scores, B_scores):\n",
        "  higher_class = A_scores\n",
        "  lower_class = B_scores\n",
        "\n",
        "  A_mean = np.mean(A_scores)\n",
        "  B_mean = np.mean(B_scores)\n",
        "\n",
        "  if B_mean > A_mean:\n",
        "    higher_class = B_scores\n",
        "    lower_class = A_scores\n",
        "\n",
        "  critical_points = [np.min(higher_class), np.max(lower_class)]\n",
        "  separation = np.mean(critical_points)\n",
        "\n",
        "  return separation"
      ],
      "execution_count": 11,
      "outputs": []
    },
    {
      "cell_type": "code",
      "metadata": {
        "colab": {
          "base_uri": "https://localhost:8080/",
          "height": 261
        },
        "id": "Izy19_UCohNe",
        "outputId": "966e19b2-acd0-424b-b407-df45e5263ae7"
      },
      "source": [
        "A_scores = np.ravel(np.matmul(eigen_vectors[:, order[0]].T, set_A.T))\n",
        "B_scores = np.ravel(np.matmul(eigen_vectors[:, order[0]].T, set_B.T))\n",
        "\n",
        "separation = point_of_separation(A_scores, B_scores)\n",
        "print('Threshold for separation = ' + str(separation))\n",
        "\n",
        "# Visualizing LDA based scoring for classification\n",
        "if store_figures == True:\n",
        "  plt.figure(figsize = (16, 3))\n",
        "else:\n",
        "  plt.figure(figsize = (18, 3))\n",
        "\n",
        "fig = plt.subplot(111)\n",
        "fig.set_title('LDA based scoring for classification', fontsize = fontsize)\n",
        "fig.set_xlabel('x')\n",
        "fig.set_ylabel('y')\n",
        "\n",
        "data_A = fig.scatter(A_scores, [0 for index in range(len(A_scores))], color = 'blue', label = 'Class A')\n",
        "data_B = fig.scatter(B_scores, [0 for index in range(len(B_scores))], color = 'green', label = 'Class B')\n",
        "divide = fig.scatter([separation], [0], marker = 'x', color = 'black', label = 'Separation')\n",
        "\n",
        "plt.legend()\n",
        "\n",
        "if store_figures == True:\n",
        "  plt.savefig('LDA_classify.png')\n",
        "plt.show()"
      ],
      "execution_count": 12,
      "outputs": [
        {
          "output_type": "stream",
          "text": [
            "Threshold for separation = -39.3105311774346\n"
          ],
          "name": "stdout"
        },
        {
          "output_type": "display_data",
          "data": {
            "image/png": "[encoded data removed]",
            "text/plain": [
              "<Figure size 1296x216 with 1 Axes>"
            ]
          },
          "metadata": {
            "tags": [],
            "needs_background": "light"
          }
        }
      ]
    },
    {
      "cell_type": "markdown",
      "metadata": {
        "id": "9kflbGWfD8A3"
      },
      "source": [
        "### $Exercise$:\n",
        "\n",
        "#### $Use\\ sklearn\\ to\\ implement\\ PCA\\ and\\ LDA\\ in\\ all\\ of\\ the\\ above\\ settings.$"
      ]
    },
    {
      "cell_type": "code",
      "metadata": {
        "id": "ltB7Uxvln1ZO"
      },
      "source": [
        "# ^_^ Thank You"
      ],
      "execution_count": 13,
      "outputs": []
    }
  ]
}