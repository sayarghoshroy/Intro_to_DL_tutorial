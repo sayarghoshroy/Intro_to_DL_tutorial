{
  "nbformat": 4,
  "nbformat_minor": 0,
  "metadata": {
    "colab": {
      "name": "Intro_to_Deep_Neural_Networks.ipynb",
      "provenance": [],
      "collapsed_sections": [],
      "authorship_tag": "ABX9TyP3hxDPNYDyelOs5vLRmMLL",
      "include_colab_link": true
    },
    "kernelspec": {
      "name": "python3",
      "display_name": "Python 3"
    }
  },
  "cells": [
    {
      "cell_type": "markdown",
      "metadata": {
        "id": "view-in-github",
        "colab_type": "text"
      },
      "source": [
        "<a href=\"https://colab.research.google.com/github/sayarghoshroy/Intro_to_DL_tutorial/blob/master/Intro_to_Deep_Neural_Networks.ipynb\" target=\"_parent\"><img src=\"https://colab.research.google.com/assets/colab-badge.svg\" alt=\"Open In Colab\"/></a>"
      ]
    },
    {
      "cell_type": "code",
      "metadata": {
        "id": "5fB5G5hIhZ0H",
        "colab_type": "code",
        "colab": {}
      },
      "source": [
        "import numpy as np"
      ],
      "execution_count": 0,
      "outputs": []
    },
    {
      "cell_type": "markdown",
      "metadata": {
        "id": "_9Eedm9HZExP",
        "colab_type": "text"
      },
      "source": [
        "### $$ Perceptron\\ as\\ Linear\\ Classifier $$\n",
        "\n",
        "<figure>\n",
        "<center>\n",
        "<img src='https://drive.google.com/uc?id=1hV1zcpBwv1zEIMaZhD0Q3ISMZ5OJ4ere' width:100% height = 350>\n",
        "<center>\n",
        "</figure>"
      ]
    },
    {
      "cell_type": "code",
      "metadata": {
        "id": "MgaVwufvgo6m",
        "colab_type": "code",
        "colab": {}
      },
      "source": [
        "# Perceptron as a Boolean Gate\n",
        "\n",
        "def make_perceptron(weights, threshold):\n",
        "    # basic unit of computation\n",
        "    # compute sum of all inputs\n",
        "    # if the sum is greater than the threshold, output 1\n",
        "    # else, output -1\n",
        "\n",
        "    return (lambda x : int(np.sign(np.matmul(np.asmatrix(weights), np.asmatrix(x).T)[0, 0] - threshold)))"
      ],
      "execution_count": 0,
      "outputs": []
    },
    {
      "cell_type": "markdown",
      "metadata": {
        "id": "wxwlWGutaaD9",
        "colab_type": "text"
      },
      "source": [
        "### $$ Not\\ perceptron $$\n",
        "\n",
        "<figure>\n",
        "<center>\n",
        "<img src='https://drive.google.com/uc?id=1uyT_S_hgk0W0fxgovwi_EWyVtqEiloY1' width:100% height = 100>\n",
        "<center>\n",
        "</figure>"
      ]
    },
    {
      "cell_type": "code",
      "metadata": {
        "id": "40tgNlnYhqWS",
        "colab_type": "code",
        "outputId": "99f0c443-ffbc-4e88-9e46-c3ee73b0a735",
        "colab": {
          "base_uri": "https://localhost:8080/",
          "height": 53
        }
      },
      "source": [
        "# 1 input NOT Gate\n",
        "# threshold = 0\n",
        "# weights = [-1]\n",
        "\n",
        "not_tron = make_perceptron([-1], 0)\n",
        "print(\"NOT(1):\", not_tron([1]))\n",
        "print(\"NOT(-1):\", not_tron([-1]))"
      ],
      "execution_count": 3,
      "outputs": [
        {
          "output_type": "stream",
          "text": [
            "NOT(1): -1\n",
            "NOT(-1): 1\n"
          ],
          "name": "stdout"
        }
      ]
    },
    {
      "cell_type": "markdown",
      "metadata": {
        "id": "Ajb9AD1xat1i",
        "colab_type": "text"
      },
      "source": [
        "### $$ Or\\ perceptron $$\n",
        "\n",
        "<figure>\n",
        "<center>\n",
        "<img src='https://drive.google.com/uc?id=1FKqIj40p_bhXLYFJD56oGuEs8DyZ3rKu' width:100% height = 200>\n",
        "<center>\n",
        "</figure>"
      ]
    },
    {
      "cell_type": "code",
      "metadata": {
        "id": "7s5y6tOwi0SO",
        "colab_type": "code",
        "outputId": "046f8d32-bb48-456a-dabd-9693c4ae61bd",
        "colab": {
          "base_uri": "https://localhost:8080/",
          "height": 88
        }
      },
      "source": [
        "# 2 input OR Gate\n",
        "# threshold = -0.5\n",
        "# weights = [1, 1]\n",
        "\n",
        "or_tron = make_perceptron([1, 1], -0.5)\n",
        "print(\"OR(-1, -1):\", or_tron([-1, -1]))\n",
        "print(\"OR(-1, 1):\", or_tron([-1, 1]))\n",
        "print(\"OR(1, -1):\", or_tron([1, -1]))\n",
        "print(\"OR(1, 1):\", or_tron([1, 1]))"
      ],
      "execution_count": 4,
      "outputs": [
        {
          "output_type": "stream",
          "text": [
            "OR(-1, -1): -1\n",
            "OR(-1, 1): 1\n",
            "OR(1, -1): 1\n",
            "OR(1, 1): 1\n"
          ],
          "name": "stdout"
        }
      ]
    },
    {
      "cell_type": "markdown",
      "metadata": {
        "id": "tElWcM1QbD-P",
        "colab_type": "text"
      },
      "source": [
        "### $$ And\\ perceptron $$\n",
        "\n",
        "<figure>\n",
        "<center>\n",
        "<img src='https://drive.google.com/uc?id=1HwhOpaPaIodgl3PZ2qHdj5YJAvB1hRtx' width:100% height = 200>\n",
        "<center>\n",
        "</figure>"
      ]
    },
    {
      "cell_type": "code",
      "metadata": {
        "id": "f6tau4fakKki",
        "colab_type": "code",
        "colab": {
          "base_uri": "https://localhost:8080/",
          "height": 88
        },
        "outputId": "a3cb6074-27fd-4837-9da0-f5ed96fd18d8"
      },
      "source": [
        "# 2 input AND Gate\n",
        "# threshold = 1.5\n",
        "# weights = [1, 1]\n",
        "\n",
        "and_tron = make_perceptron([1, 1], 0.5)\n",
        "print(\"AND(-1, -1):\", and_tron([-1, -1]))\n",
        "print(\"AND(-1, 1):\", and_tron([-1, 1]))\n",
        "print(\"AND(1, -1):\", and_tron([1, -1]))\n",
        "print(\"AND(1, 1):\", and_tron([1, 1]))"
      ],
      "execution_count": 5,
      "outputs": [
        {
          "output_type": "stream",
          "text": [
            "AND(-1, -1): -1\n",
            "AND(-1, 1): -1\n",
            "AND(1, -1): -1\n",
            "AND(1, 1): 1\n"
          ],
          "name": "stdout"
        }
      ]
    },
    {
      "cell_type": "markdown",
      "metadata": {
        "id": "egK06_GGbNPe",
        "colab_type": "text"
      },
      "source": [
        "### $$ Xor\\ problem $$\n",
        "\n",
        "<figure>\n",
        "<center>\n",
        "<img src='https://drive.google.com/uc?id=1AWEhheQAfQSZjZJa9tNZtRnBY85XnJBk' width:100% height = 300>\n",
        "<center>\n",
        "</figure>"
      ]
    },
    {
      "cell_type": "code",
      "metadata": {
        "id": "9hPHkkZGodsG",
        "colab_type": "code",
        "colab": {
          "base_uri": "https://localhost:8080/",
          "height": 88
        },
        "outputId": "70315d39-d10f-458e-e1b3-fd5a08d9942e"
      },
      "source": [
        "# What about XOR?\n",
        "# We need more than one perceptron\n",
        "# Therefore, we use a Multi-Layer Perceptron (MLP)\n",
        "\n",
        "xor_tron = (lambda x : and_tron([or_tron(x), or_tron([not_tron(x[0]), not_tron(x[1])])]))\n",
        "print(\"XOR(-1, -1):\", xor_tron([-1, -1]))\n",
        "print(\"XOR(-1, 1):\", xor_tron([-1, 1]))\n",
        "print(\"XOR(1, -1):\", xor_tron([1, -1]))\n",
        "print(\"XOR(1, 1):\", xor_tron([1, 1]))"
      ],
      "execution_count": 6,
      "outputs": [
        {
          "output_type": "stream",
          "text": [
            "XOR(-1, -1): -1\n",
            "XOR(-1, 1): 1\n",
            "XOR(1, -1): 1\n",
            "XOR(1, 1): -1\n"
          ],
          "name": "stdout"
        }
      ]
    },
    {
      "cell_type": "markdown",
      "metadata": {
        "id": "Tm79mv5Sbak4",
        "colab_type": "text"
      },
      "source": [
        "### $$ MLP\\ for\\ Xor $$\n",
        "\n",
        "<figure>\n",
        "<center>\n",
        "<img src='https://drive.google.com/uc?id=1mtZSJQn6Jlgd3-RNwZsEnobhNgLIz83M' width:100% height = 250>\n",
        "<center>\n",
        "</figure>"
      ]
    },
    {
      "cell_type": "code",
      "metadata": {
        "id": "aMK8DfC9r0uJ",
        "colab_type": "code",
        "colab": {}
      },
      "source": [
        "# Thank You"
      ],
      "execution_count": 0,
      "outputs": []
    }
  ]
}