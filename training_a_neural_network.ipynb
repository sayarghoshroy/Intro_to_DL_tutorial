{
  "nbformat": 4,
  "nbformat_minor": 0,
  "metadata": {
    "colab": {
      "name": "training_a_neural_network.ipynb",
      "provenance": [],
      "collapsed_sections": [],
      "authorship_tag": "ABX9TyPpU/o1I64S8GlkWMeS7f6F",
      "include_colab_link": true
    },
    "kernelspec": {
      "name": "python3",
      "display_name": "Python 3"
    }
  },
  "cells": [
    {
      "cell_type": "markdown",
      "metadata": {
        "id": "view-in-github",
        "colab_type": "text"
      },
      "source": [
        "<a href=\"https://colab.research.google.com/github/sayarghoshroy/Intro_to_DL_tutorial/blob/master/training_a_neural_network.ipynb\" target=\"_parent\"><img src=\"https://colab.research.google.com/assets/colab-badge.svg\" alt=\"Open In Colab\"/></a>"
      ]
    },
    {
      "cell_type": "code",
      "metadata": {
        "id": "MbEbYlfUYQnL",
        "colab_type": "code",
        "colab": {}
      },
      "source": [
        "import numpy as np\n",
        "import matplotlib.pyplot as plt\n",
        "import pandas as pd\n",
        "from matplotlib import cm\n",
        "from mpl_toolkits.mplot3d import Axes3D\n",
        "\n",
        "from sklearn.model_selection import train_test_split\n",
        "from sklearn.neural_network import MLPRegressor"
      ],
      "execution_count": 0,
      "outputs": []
    },
    {
      "cell_type": "markdown",
      "metadata": {
        "id": "jOsI9zIyamjH",
        "colab_type": "text"
      },
      "source": [
        "## *Example 4: Train a Neural Network on a Real World Dataset*\n",
        "\n",
        "### $ Predict\\ Concrete\\ Compressive\\ Strength.$"
      ]
    },
    {
      "cell_type": "code",
      "metadata": {
        "id": "l0mcHgP4aiWD",
        "colab_type": "code",
        "outputId": "157c8155-d276-4137-dab8-f24c24d176d0",
        "colab": {
          "base_uri": "https://localhost:8080/",
          "height": 35
        }
      },
      "source": [
        "# loading the data\n",
        "data_read = pd.read_excel('./Concrete_Data.xls')\n",
        "data = data_read.values\n",
        "# the last column of the data is what we are trying to predict\n",
        "\n",
        "print(\"Dimensions of the Dataset: \" + str(np.shape(data)))"
      ],
      "execution_count": 2,
      "outputs": [
        {
          "output_type": "stream",
          "text": [
            "Dimensions of the Dataset: (1030, 9)\n"
          ],
          "name": "stdout"
        }
      ]
    },
    {
      "cell_type": "code",
      "metadata": {
        "id": "NCPnanyEa-H4",
        "colab_type": "code",
        "colab": {}
      },
      "source": [
        "# Splitting the Data into Training and Testing Sets\n",
        "X_train, X_test, y_train, y_test = train_test_split(data[:, 0:8], data[:, 8], test_size = 0.3, random_state = 2020)"
      ],
      "execution_count": 0,
      "outputs": []
    },
    {
      "cell_type": "code",
      "metadata": {
        "id": "Awx63jZ5bcmr",
        "colab_type": "code",
        "colab": {}
      },
      "source": [
        "# Data Normalization\n",
        "# Note that we are only observing our training set\n",
        "\n",
        "train_mean = np.mean(X_train, axis = 0)\n",
        "train_var = np.var(X_train, axis = 0)\n",
        "\n",
        "X_train = (X_train -  train_mean) / np.sqrt(train_var)\n",
        "X_test = (X_test - train_mean) / np.sqrt(train_var)\n",
        "# Pre-processing Step"
      ],
      "execution_count": 0,
      "outputs": []
    },
    {
      "cell_type": "markdown",
      "metadata": {
        "id": "tdRXBevvb2Pc",
        "colab_type": "text"
      },
      "source": [
        "#### $ Building\\ Neural\\ Network\\ and\\ defining\\ Gradients$\n",
        "\n",
        "$ y' = W_2.f(W_1^TX)$\n",
        "\n",
        "$ Neural\\ Network\\ with\\ one\\ hidden\\ layer,\\ eight\\ inputs,\\ and\\ one\\ output. $\n",
        "\n",
        "$where:$\n",
        "\n",
        "- $\\ W_1\\ is\\ of\\ size\\ 8\\ \\times\\ n\\_nodes$\n",
        "\n",
        "- $\\ W_2\\ is\\ of\\ size\\ 1\\ \\times\\ n\\_nodes$\n",
        "\n",
        "- $\\ f\\ is\\ the\\ activation\\ for\\ the\\ hidden\\ layer$\n",
        "\n",
        "- $\\ X\\ is\\ the\\ data\\ matrix\\ of\\ size\\ 8\\times [batch\\ size]$\n",
        "\n",
        "<br>\n",
        "\n",
        "$ Mean\\ Squared\\ Error = \\frac{1}{N}(y - y')^T (y - y') $\n",
        "\n",
        "$ = \\frac{1}{N} (y^Ty - y^Ty' - y'^Ty +y'^Ty') = L$\n",
        "\n",
        "<br>\n",
        "\n",
        "$ \\frac{\\partial L}{\\partial W_2} = \\frac{1}{N}(2y'.\\frac{\\partial y'}{\\partial W_2} - 2y. \\frac{\\partial y'}{\\partial W_2})$\n",
        "\n",
        "$= \\frac{2}{N}(y' - y).f(W_1^TX)$\n",
        "\n",
        "<br>\n",
        "\n",
        "$ \\frac{\\partial L}{\\partial W_1} = \\frac{2}{N}(y' - y) \\frac{\\partial y'}{\\partial W_1}$\n",
        "\n",
        "$ = \\frac{2}{N}(y' - y).W_2 \\odot f'(W_1^T X).X^T$\n",
        "\n",
        "<br>\n",
        "\n",
        "$ -\\ where\\ f'\\ is\\ the\\ derivative\\ of\\ the\\ activation\\ function$\n",
        "\n",
        "<br>\n",
        "\n",
        "$ NOTE:\\ No\\ biases\\ have\\ been\\ used\\ so\\ far.$"
      ]
    },
    {
      "cell_type": "code",
      "metadata": {
        "id": "iUCVObw4blyK",
        "colab_type": "code",
        "colab": {}
      },
      "source": [
        "batch_size = 200\n",
        "\n",
        "def forward(X, W_1, W_2, f):\n",
        "    y_prime = np.matmul(W_2, f(np.matmul(W_1.T, X.T)))\n",
        "    return y_prime\n",
        "\n",
        "def convergence(losses):\n",
        "    if len(losses) > 1 and np.abs(losses[-1] - losses[-2]) < 1e-4:\n",
        "        return True\n",
        "    return False\n",
        "\n",
        "def plot_losses(errors):\n",
        "    fig = plt.figure(figsize=(9, 9))\n",
        "    p = fig.add_subplot('111')\n",
        "    p.set_title('Error v/s Epoch')\n",
        "    p.set_xlabel('Epoch Number')\n",
        "    p.set_ylabel('Error')\n",
        "    losses = [x for x in errors]\n",
        "    p.plot(list(range(1, len(losses))), losses[1:])\n",
        "    plt.show()"
      ],
      "execution_count": 0,
      "outputs": []
    },
    {
      "cell_type": "code",
      "metadata": {
        "id": "izuPNAticNXs",
        "colab_type": "code",
        "colab": {}
      },
      "source": [
        "def batch_backprop_train(nodes, f, f_prime, random_seed = 2020, max_iter = int(1e4)):\n",
        "    np.random.seed(seed = random_seed)\n",
        "    W_1 = np.random.random_sample((8, nodes))\n",
        "    np.random.seed(seed = random_seed)\n",
        "    W_2 = np.random.random_sample((1, nodes))\n",
        "\n",
        "    eta = 1e-4 * 5\n",
        "    \n",
        "    iteration = 0\n",
        "\n",
        "    train_loss = []\n",
        "\n",
        "    while iteration < max_iter and convergence(train_loss) == False:\n",
        "        # random batch selection\n",
        "        indices = np.random.randint(0, X_train.shape[0], batch_size)\n",
        "        sample = X_train[indices]\n",
        "        y = y_train[indices]\n",
        "\n",
        "        train_loss.append(np.power(np.linalg.norm(y_train - forward(X_train, W_1, W_2, f)), 2) / np.shape(y_train)[0])\n",
        "\n",
        "        y_prime = forward(sample, W_1, W_2, f)\n",
        "\n",
        "        partial_L_W_1 = (2 / batch_size) * (np.multiply( (np.asmatrix(y_prime - y).T @ W_2).T, f_prime(W_1.T @ sample.T)) @ sample).T\n",
        "        partial_L_W_2 = (2 / batch_size) * np.matmul(np.asmatrix(y_prime - y), f(np.matmul(W_1.T, sample.T).T))\n",
        "\n",
        "        W_1 = W_1 - eta * partial_L_W_1\n",
        "        W_2 = W_2 - eta * partial_L_W_2\n",
        "        \n",
        "        iteration += 1\n",
        "    \n",
        "    test_error = np.power(np.linalg.norm(y_test - forward(X_test, W_1, W_2, f)), 2) / np.shape(y_test)[0]\n",
        "    return train_loss, test_error, W_1, W_2"
      ],
      "execution_count": 0,
      "outputs": []
    },
    {
      "cell_type": "code",
      "metadata": {
        "id": "Mx69Fgmzcg_d",
        "colab_type": "code",
        "outputId": "bdf61f93-73f1-4ea3-9168-ae98fd0b438a",
        "colab": {
          "base_uri": "https://localhost:8080/",
          "height": 1000
        }
      },
      "source": [
        "activations = ['relu', 'tanh']\n",
        "\n",
        "get_f = {'tanh' : (lambda x: np.tanh(x)), 'relu': (lambda x: np.maximum(0, x))}\n",
        "get_f_prime = {'tanh': (lambda x: 1 - np.power(np.tanh(x), 2)), 'relu': (lambda x: np.greater(x, 0))}\n",
        "\n",
        "for active in activations:\n",
        "    train_loss, test_error, _, _ = batch_backprop_train(64, get_f[active], get_f_prime[active])\n",
        "    print(\"Hidden Layer Activation = \" + str(active))\n",
        "    print(\"MSE on Train Set: \" + str(train_loss[-1]))\n",
        "    print(\"MSE on Test Set: \" + str(test_error))\n",
        "    plot_losses(train_loss)"
      ],
      "execution_count": 7,
      "outputs": [
        {
          "output_type": "stream",
          "text": [
            "Hidden Layer Activation = relu\n",
            "MSE on Train Set: 148.62573587283686\n",
            "MSE on Test Set: 174.13285193540767\n"
          ],
          "name": "stdout"
        },
        {
          "output_type": "display_data",
          "data": {
            "image/png": "[encoded data removed]",
            "text/plain": [
              "<Figure size 648x648 with 1 Axes>"
            ]
          },
          "metadata": {
            "tags": [],
            "needs_background": "light"
          }
        },
        {
          "output_type": "stream",
          "text": [
            "Hidden Layer Activation = tanh\n",
            "MSE on Train Set: 201.7388019547476\n",
            "MSE on Test Set: 271.9911446153087\n"
          ],
          "name": "stdout"
        },
        {
          "output_type": "display_data",
          "data": {
            "image/png": "[encoded data removed]",
            "text/plain": [
              "<Figure size 648x648 with 1 Axes>"
            ]
          },
          "metadata": {
            "tags": [],
            "needs_background": "light"
          }
        }
      ]
    },
    {
      "cell_type": "markdown",
      "metadata": {
        "id": "yPebYkB6gTQ4",
        "colab_type": "text"
      },
      "source": [
        "---\n",
        "$ How\\ scikit-learn\\ makes\\ our\\ life\\ easier $\n",
        "\n",
        "---"
      ]
    },
    {
      "cell_type": "code",
      "metadata": {
        "id": "-zpjnaUPdMv9",
        "colab_type": "code",
        "colab": {}
      },
      "source": [
        "# Using sklearn's implementation of SGD with 10000 iterations\n",
        "def train(X, y, n_nodes = 64, active = 'relu'):\n",
        "    reg = MLPRegressor(alpha = 0,\n",
        "                       learning_rate_init = 1e-4 * 5,\n",
        "                       hidden_layer_sizes = (n_nodes),\n",
        "                       random_state = 2020,\n",
        "                       activation = active,\n",
        "                       max_iter = int(1e5),\n",
        "                       solver = 'sgd',\n",
        "                       momentum = 0)\n",
        "    reg.fit(X, y)\n",
        "    return reg\n",
        "    # reg is our trained model\n",
        "    \n",
        "def plot_loss_curve(reg):\n",
        "    fig = plt.figure(figsize=(9, 9))\n",
        "    p = fig.add_subplot('111')\n",
        "    p.set_title('Error v/s Epoch')\n",
        "    p.set_xlabel('Epoch Number')\n",
        "    p.set_ylabel('Error')\n",
        "    errors = reg.loss_curve_\n",
        "    p.plot(list(range(1, len(errors))), errors[1:])\n",
        "    plt.show()\n",
        "\n",
        "def get_train_test_loss(reg):\n",
        "    pred_y_train = reg.predict(X_train)\n",
        "    pred_y_test = reg.predict(X_test)\n",
        "    \n",
        "    train_Loss = np.power(np.linalg.norm(y_train - pred_y_train), 2) / np.shape(y_train)[0]\n",
        "    test_Loss = np.power(np.linalg.norm(y_test - pred_y_test), 2) / np.shape(y_test)[0]\n",
        "\n",
        "    return (train_Loss, test_Loss)"
      ],
      "execution_count": 0,
      "outputs": []
    },
    {
      "cell_type": "code",
      "metadata": {
        "id": "hmZ_QchJg-vD",
        "colab_type": "code",
        "outputId": "4b0f5fd9-028b-49f2-c7c9-bda1546330fb",
        "colab": {
          "base_uri": "https://localhost:8080/",
          "height": 1000
        }
      },
      "source": [
        "# obtaining results using scikit learn\n",
        "\n",
        "for active in activations:\n",
        "    model = train(X_train, y_train, 64, active)\n",
        "    print(\"Hidden Layer Activation = \" + str(active))\n",
        "    loss_train, loss_test = get_train_test_loss(model)\n",
        "    print(\"Error on Train Set: \" + str(loss_train))\n",
        "    print(\"Error on Test Set: \" + str(loss_test))\n",
        "    plot_loss_curve(model)"
      ],
      "execution_count": 9,
      "outputs": [
        {
          "output_type": "stream",
          "text": [
            "Hidden Layer Activation = relu\n",
            "Error on Train Set: 31.31644006134109\n",
            "Error on Test Set: 43.96036471068162\n"
          ],
          "name": "stdout"
        },
        {
          "output_type": "display_data",
          "data": {
            "image/png": "[encoded data removed]",
            "text/plain": [
              "<Figure size 648x648 with 1 Axes>"
            ]
          },
          "metadata": {
            "tags": [],
            "needs_background": "light"
          }
        },
        {
          "output_type": "stream",
          "text": [
            "Hidden Layer Activation = tanh\n",
            "Error on Train Set: 13.418856105181682\n",
            "Error on Test Set: 25.01920654591389\n"
          ],
          "name": "stdout"
        },
        {
          "output_type": "display_data",
          "data": {
            "image/png": "[encoded data removed]",
            "text/plain": [
              "<Figure size 648x648 with 1 Axes>"
            ]
          },
          "metadata": {
            "tags": [],
            "needs_background": "light"
          }
        }
      ]
    },
    {
      "cell_type": "markdown",
      "metadata": {
        "id": "WtwaQiThhz4h",
        "colab_type": "text"
      },
      "source": [
        "## $ If\\ you're\\ interested\\ in\\ optimization\\ and\\ learning, $\n",
        "### $ try\\ including\\ bias\\ terms\\ in\\ the\\ vanilla\\ model\\ and\\ evaluate\\ the\\ new\\ performance.$\n",
        "\n",
        "#### $ This\\ should\\ give\\ you\\ a\\ head\\ start: $\n",
        "\n",
        "$ if\\ we\\ define\\ our\\ model\\ as: $\n",
        "\n",
        "$ y' = W_2.f(W_1^TX + b_1) + b_2$\n",
        "\n",
        "$where:$\n",
        "\n",
        "- $\\ W_1\\ is\\ of\\ size\\ 8\\ \\times\\ n\\_nodes$\n",
        "\n",
        "- $\\ W_2\\ is\\ of\\ size\\ 1\\ \\times\\ n\\_nodes$\n",
        "\n",
        "- $\\ b_1 \\in\\ \\mathbb{R}^{n\\_nodes}$\n",
        "\n",
        "- $\\ b_2\\ \\in\\ \\mathbb{R}$\n",
        "\n",
        "- $\\ f\\ is\\ the\\ activation\\ for\\ the\\ hidden\\ layer$\n",
        "\n",
        "- $\\ X\\ is\\ the\\ data\\ matrix\\ of\\ size\\ 8\\times [batch\\ size]$\n",
        "\n",
        "$ What\\ else\\ do\\ we\\ need\\ to\\ consider? $\n",
        "\n",
        "#### $ HINT:\\ Think\\ about\\ \\frac{\\partial L}{\\partial b_1}\\ and\\ \\frac{\\partial L}{\\partial b_2}$"
      ]
    },
    {
      "cell_type": "code",
      "metadata": {
        "id": "sW3ne9K0hNjH",
        "colab_type": "code",
        "colab": {}
      },
      "source": [
        "# ^_^ Thank You"
      ],
      "execution_count": 0,
      "outputs": []
    }
  ]
}