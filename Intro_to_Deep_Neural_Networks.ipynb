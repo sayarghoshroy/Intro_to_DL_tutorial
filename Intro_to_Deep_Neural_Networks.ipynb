{
  "nbformat": 4,
  "nbformat_minor": 0,
  "metadata": {
    "colab": {
      "name": "Intro_to_Deep_Neural_Networks.ipynb",
      "provenance": [],
      "collapsed_sections": [],
      "authorship_tag": "ABX9TyNBnb3iPB+JFsLitdUSWmXn",
      "include_colab_link": true
    },
    "kernelspec": {
      "name": "python3",
      "display_name": "Python 3"
    }
  },
  "cells": [
    {
      "cell_type": "markdown",
      "metadata": {
        "id": "view-in-github",
        "colab_type": "text"
      },
      "source": [
        "<a href=\"https://colab.research.google.com/github/sayarghoshroy/Intro_to_DL_tutorial/blob/master/Intro_to_Deep_Neural_Networks.ipynb\" target=\"_parent\"><img src=\"https://colab.research.google.com/assets/colab-badge.svg\" alt=\"Open In Colab\"/></a>"
      ]
    },
    {
      "cell_type": "code",
      "metadata": {
        "id": "5fB5G5hIhZ0H",
        "colab_type": "code",
        "colab": {}
      },
      "source": [
        "import numpy as np"
      ],
      "execution_count": 0,
      "outputs": []
    },
    {
      "cell_type": "markdown",
      "metadata": {
        "id": "_9Eedm9HZExP",
        "colab_type": "text"
      },
      "source": [
        "### $$ Perceptron\\ as\\ Linear\\ Classifier $$\n",
        "\n",
        "<figure>\n",
        "<center>\n",
        "<img src='https://drive.google.com/uc?id=1hV1zcpBwv1zEIMaZhD0Q3ISMZ5OJ4ere' width:100% height = 350>\n",
        "<center>\n",
        "</figure>"
      ]
    },
    {
      "cell_type": "code",
      "metadata": {
        "id": "MgaVwufvgo6m",
        "colab_type": "code",
        "colab": {}
      },
      "source": [
        "# Perceptron as a Boolean Gate\n",
        "\n",
        "def make_perceptron(weights, threshold):\n",
        "    # basic unit of computation\n",
        "    # compute sum of all inputs\n",
        "    # if the sum is greater than the threshold, output 1\n",
        "    # else, output -1\n",
        "\n",
        "    return (lambda x : int(np.sign(np.matmul(np.asmatrix(weights), np.asmatrix(x).T)[0, 0] - threshold)))"
      ],
      "execution_count": 0,
      "outputs": []
    },
    {
      "cell_type": "markdown",
      "metadata": {
        "id": "wxwlWGutaaD9",
        "colab_type": "text"
      },
      "source": [
        "### $$ Not\\ perceptron $$\n",
        "\n",
        "<figure>\n",
        "<center>\n",
        "<img src='https://drive.google.com/uc?id=1uyT_S_hgk0W0fxgovwi_EWyVtqEiloY1' width:100% height = 100>\n",
        "<center>\n",
        "</figure>"
      ]
    },
    {
      "cell_type": "code",
      "metadata": {
        "id": "40tgNlnYhqWS",
        "colab_type": "code",
        "outputId": "e5149faf-e70c-497d-e774-a9b237906a3b",
        "colab": {
          "base_uri": "https://localhost:8080/",
          "height": 53
        }
      },
      "source": [
        "# 1 input NOT Gate\n",
        "# threshold = 0\n",
        "# weights = [-1]\n",
        "\n",
        "not_tron = make_perceptron([-1], 0)\n",
        "print(\"NOT(1):\", not_tron([1]))\n",
        "print(\"NOT(-1):\", not_tron([-1]))"
      ],
      "execution_count": 3,
      "outputs": [
        {
          "output_type": "stream",
          "text": [
            "NOT(1): -1\n",
            "NOT(-1): 1\n"
          ],
          "name": "stdout"
        }
      ]
    },
    {
      "cell_type": "markdown",
      "metadata": {
        "id": "Ajb9AD1xat1i",
        "colab_type": "text"
      },
      "source": [
        "### $$ Or\\ perceptron $$\n",
        "\n",
        "<figure>\n",
        "<center>\n",
        "<img src='https://drive.google.com/uc?id=1FKqIj40p_bhXLYFJD56oGuEs8DyZ3rKu' width:100% height = 200>\n",
        "<center>\n",
        "</figure>"
      ]
    },
    {
      "cell_type": "code",
      "metadata": {
        "id": "7s5y6tOwi0SO",
        "colab_type": "code",
        "outputId": "99c15479-90fb-4671-fc12-85dd758d666b",
        "colab": {
          "base_uri": "https://localhost:8080/",
          "height": 88
        }
      },
      "source": [
        "# 2 input OR Gate\n",
        "# threshold = -0.5\n",
        "# weights = [1, 1]\n",
        "\n",
        "or_tron = make_perceptron([1, 1], -0.5)\n",
        "print(\"OR(-1, -1):\", or_tron([-1, -1]))\n",
        "print(\"OR(-1, 1):\", or_tron([-1, 1]))\n",
        "print(\"OR(1, -1):\", or_tron([1, -1]))\n",
        "print(\"OR(1, 1):\", or_tron([1, 1]))"
      ],
      "execution_count": 4,
      "outputs": [
        {
          "output_type": "stream",
          "text": [
            "OR(-1, -1): -1\n",
            "OR(-1, 1): 1\n",
            "OR(1, -1): 1\n",
            "OR(1, 1): 1\n"
          ],
          "name": "stdout"
        }
      ]
    },
    {
      "cell_type": "markdown",
      "metadata": {
        "id": "tElWcM1QbD-P",
        "colab_type": "text"
      },
      "source": [
        "### $$ And\\ perceptron $$\n",
        "\n",
        "<figure>\n",
        "<center>\n",
        "<img src='https://drive.google.com/uc?id=1HwhOpaPaIodgl3PZ2qHdj5YJAvB1hRtx' width:100% height = 200>\n",
        "<center>\n",
        "</figure>"
      ]
    },
    {
      "cell_type": "code",
      "metadata": {
        "id": "f6tau4fakKki",
        "colab_type": "code",
        "outputId": "d06a196c-3474-4d85-c708-00460162921b",
        "colab": {
          "base_uri": "https://localhost:8080/",
          "height": 88
        }
      },
      "source": [
        "# 2 input AND Gate\n",
        "# threshold = 1.5\n",
        "# weights = [1, 1]\n",
        "\n",
        "and_tron = make_perceptron([1, 1], 0.5)\n",
        "print(\"AND(-1, -1):\", and_tron([-1, -1]))\n",
        "print(\"AND(-1, 1):\", and_tron([-1, 1]))\n",
        "print(\"AND(1, -1):\", and_tron([1, -1]))\n",
        "print(\"AND(1, 1):\", and_tron([1, 1]))"
      ],
      "execution_count": 5,
      "outputs": [
        {
          "output_type": "stream",
          "text": [
            "AND(-1, -1): -1\n",
            "AND(-1, 1): -1\n",
            "AND(1, -1): -1\n",
            "AND(1, 1): 1\n"
          ],
          "name": "stdout"
        }
      ]
    },
    {
      "cell_type": "markdown",
      "metadata": {
        "id": "egK06_GGbNPe",
        "colab_type": "text"
      },
      "source": [
        "### $$ Xor\\ problem $$\n",
        "\n",
        "<figure>\n",
        "<center>\n",
        "<img src='https://drive.google.com/uc?id=1AWEhheQAfQSZjZJa9tNZtRnBY85XnJBk' width:100% height = 300>\n",
        "<center>\n",
        "</figure>"
      ]
    },
    {
      "cell_type": "markdown",
      "metadata": {
        "id": "F8VYugugOYax",
        "colab_type": "text"
      },
      "source": [
        "### $$ MLP\\ for\\ Xor $$\n",
        "\n",
        "<figure>\n",
        "<center>\n",
        "<img src='https://drive.google.com/uc?id=1mtZSJQn6Jlgd3-RNwZsEnobhNgLIz83M' width:100% height = 250>\n",
        "<center>\n",
        "</figure>"
      ]
    },
    {
      "cell_type": "code",
      "metadata": {
        "id": "9hPHkkZGodsG",
        "colab_type": "code",
        "outputId": "b9c86039-5964-4ce5-8532-c97dd4484d1a",
        "colab": {
          "base_uri": "https://localhost:8080/",
          "height": 88
        }
      },
      "source": [
        "# What about XOR?\n",
        "# We need more than one perceptron\n",
        "# Therefore, we use a Multi-Layer Perceptron (MLP)\n",
        "\n",
        "xor_tron = (lambda x : and_tron([or_tron(x), or_tron([not_tron(x[0]), not_tron(x[1])])]))\n",
        "print(\"XOR(-1, -1):\", xor_tron([-1, -1]))\n",
        "print(\"XOR(-1, 1):\", xor_tron([-1, 1]))\n",
        "print(\"XOR(1, -1):\", xor_tron([1, -1]))\n",
        "print(\"XOR(1, 1):\", xor_tron([1, 1]))"
      ],
      "execution_count": 6,
      "outputs": [
        {
          "output_type": "stream",
          "text": [
            "XOR(-1, -1): -1\n",
            "XOR(-1, 1): 1\n",
            "XOR(1, -1): 1\n",
            "XOR(1, 1): -1\n"
          ],
          "name": "stdout"
        }
      ]
    },
    {
      "cell_type": "markdown",
      "metadata": {
        "id": "G7upVhPLcxuR",
        "colab_type": "text"
      },
      "source": [
        "### $$ Generic\\ MLP $$\n",
        "\n",
        "<figure>\n",
        "<center>\n",
        "<img src='https://drive.google.com/uc?id=1mKeujAppbJxwSr1RrCKsM4ym-ijL-jHL' width:100% height = 300>\n",
        "<center>\n",
        "</figure>"
      ]
    },
    {
      "cell_type": "markdown",
      "metadata": {
        "id": "1YbECi5yOh1x",
        "colab_type": "text"
      },
      "source": [
        "$$\n",
        "X_{3 \\times 1} = \\begin{pmatrix}\n",
        "x_1 \\\\\n",
        "x_2 \\\\\n",
        "x_3 \\\\\n",
        "\\end{pmatrix} $$\n",
        "\n",
        "<br>\n",
        "\n",
        "$$\n",
        "^1W_{3 \\times 4} = \\begin{pmatrix}\n",
        "^1w_{11} && ^1w_{12} && ^1w_{13} && ^1w_{14} \\\\\n",
        "^1w_{21} && ^1w_{22} && ^1w_{23} && ^1w_{24} \\\\\n",
        "^1w_{31} && ^1w_{32} && ^1w_{33} && ^1w_{34} \\\\\n",
        "\\end{pmatrix}\n",
        "$$\n",
        "\n",
        "<br>\n",
        "\n",
        "$$\n",
        "^2W_{4 \\times 4} = \\begin{pmatrix}\n",
        "^2w_{11} && ^2w_{12} && ^2w_{13} && ^2w_{14} \\\\\n",
        "^2w_{21} && ^2w_{22} && ^2w_{23} && ^2w_{24} \\\\\n",
        "^2w_{31} && ^2w_{32} && ^2w_{33} && ^2w_{34} \\\\\n",
        "^2w_{41} && ^2w_{42} && ^2w_{43} && ^2w_{44} \\\\\n",
        "\\end{pmatrix} $$\n",
        "\n",
        "<br>\n",
        "\n",
        "$$\n",
        "^3W_{4 \\times 1} = \\begin{pmatrix}\n",
        "^3w_{11} \\\\\n",
        "^3w_{21} \\\\\n",
        "^3w_{31} \\\\\n",
        "^3w_{41} \\\\\n",
        "\\end{pmatrix} $$\n",
        "\n",
        "<br>\n",
        "\n",
        "$$ What\\ about\\ ^3W^T.^2W^T.^1W^T.X? $$\n",
        "\n",
        "<br>\n",
        "\n",
        "$$ Reduces\\ to\\ W.X\\ where\\ W\\ is\\ a\\ 1 \\times 3\\ matrix $$\n",
        "\n",
        "<br>\n",
        "\n",
        "$$ Therefore,\\ we\\ need\\ to\\ introduce\\ non-linearities: $$\n",
        "\n",
        "$$ H_1 = f_1(^1W^T.X) $$\n",
        "$$ H_2 = f_2(^2W^T.H_1) $$\n",
        "$$ o = f_3(^3W^T.H_2) $$\n",
        "\n",
        "$$ where\\ f_1,\\ f_2,\\ and\\ f_3\\ are\\ non-linear\\ activation\\ functions $$\n",
        "\n",
        "$$ \\therefore o = f_3(^3W^T.(f_2(^2W^T.(f_1(^1W^T.X))))) $$"
      ]
    },
    {
      "cell_type": "code",
      "metadata": {
        "id": "TSki8cprWfre",
        "colab_type": "code",
        "colab": {
          "base_uri": "https://localhost:8080/",
          "height": 88
        },
        "outputId": "6d22f5a2-1909-4e2c-8b2c-c59e2035d618"
      },
      "source": [
        "# Building the Neural Network\n",
        "X = np.random.uniform(0, 1, 3)\n",
        "\n",
        "W_1 = np.random.uniform(0, 1, (3, 4))\n",
        "W_2 = np.random.uniform(0, 1, (4, 4))\n",
        "W_3 = np.random.uniform(0, 1, (4, 1))\n",
        "\n",
        "H_1 = np.tanh(W_1.T @ X)\n",
        "H_2 = np.tanh(W_2.T @ H_1)\n",
        "o = np.tanh(W_3.T @ H_2)\n",
        "\n",
        "print(\"input layer:\\t\", X)\n",
        "print(\"hidden layer 1:\\t\", H_1)\n",
        "print(\"hidden layer 2:\\t\", H_2)\n",
        "print(\"output layer:\\t\", o)"
      ],
      "execution_count": 7,
      "outputs": [
        {
          "output_type": "stream",
          "text": [
            "input layer:\t [0.0341388  0.22371562 0.38710131]\n",
            "hidden layer 1:\t [0.38861414 0.31819478 0.24710244 0.11886669]\n",
            "hidden layer 2:\t [0.37819111 0.25437886 0.62662633 0.67370425]\n",
            "output layer:\t [0.598618]\n"
          ],
          "name": "stdout"
        }
      ]
    },
    {
      "cell_type": "code",
      "metadata": {
        "id": "2rUnEfoCX92W",
        "colab_type": "code",
        "colab": {
          "base_uri": "https://localhost:8080/",
          "height": 35
        },
        "outputId": "6108b0c4-6700-4386-9a17-c4636e860cdb"
      },
      "source": [
        "# using scikit learn to define multi-layer perceptrons\n",
        "from sklearn.neural_network import MLPRegressor\n",
        "\n",
        "reg = MLPRegressor(hidden_layer_sizes = (4, 4),\n",
        "                   random_state = 2020,\n",
        "                   activation = 'tanh',\n",
        "                   max_iter = int(1e7))\n",
        "\n",
        "# Trying to fit weights to input X and output o\n",
        "reg.fit(np.asmatrix(X), np.asarray(o))\n",
        "\n",
        "# reg is our MLP model\n",
        "\n",
        "# Passing X through the MLP\n",
        "print(\"Predicted Output:\", reg.predict(np.asmatrix(X)))"
      ],
      "execution_count": 8,
      "outputs": [
        {
          "output_type": "stream",
          "text": [
            "Predicted Output: [0.55708548]\n"
          ],
          "name": "stdout"
        }
      ]
    },
    {
      "cell_type": "code",
      "metadata": {
        "id": "aMK8DfC9r0uJ",
        "colab_type": "code",
        "colab": {}
      },
      "source": [
        "# Thank You"
      ],
      "execution_count": 0,
      "outputs": []
    }
  ]
}